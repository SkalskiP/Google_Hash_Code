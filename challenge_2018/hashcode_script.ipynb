{
 "cells": [
  {
   "cell_type": "code",
   "execution_count": 16,
   "metadata": {
    "collapsed": true
   },
   "outputs": [],
   "source": [
    "import numpy as np\n",
    "import pandas as pd"
   ]
  },
  {
   "cell_type": "code",
   "execution_count": 50,
   "metadata": {
    "collapsed": true
   },
   "outputs": [],
   "source": [
    "# Load dataset\n",
    "input = open('InputData/a_example.in', 'r')\n",
    "text = input.read()"
   ]
  },
  {
   "cell_type": "code",
   "execution_count": 51,
   "metadata": {
    "collapsed": true
   },
   "outputs": [],
   "source": [
    "# Take a look\n",
    "#print(text)"
   ]
  },
  {
   "cell_type": "code",
   "execution_count": 52,
   "metadata": {
    "collapsed": true
   },
   "outputs": [],
   "source": [
    "# Load info about dataset\n",
    "data_set = text.split('\\n')\n",
    "data_set_info = data_set[0]\n",
    "data_set_info = data_set_info.split(' ')\n",
    "\n",
    "R = int(data_set_info[0])          # number of rows of the grid \n",
    "C = int(data_set_info[1])          # number of columns of the grid \n",
    "F = int(data_set_info[2])          # number of vehicles in the fleet\n",
    "N = int(data_set_info[3])          # number of rides\n",
    "B = int(data_set_info[4])          # per-ride bonus for starting the ride on time\n",
    "T = int(data_set_info[5])          # number of steps in the simulation"
   ]
  },
  {
   "cell_type": "code",
   "execution_count": 53,
   "metadata": {},
   "outputs": [
    {
     "data": {
      "text/plain": [
       "10"
      ]
     },
     "execution_count": 53,
     "metadata": {},
     "output_type": "execute_result"
    }
   ],
   "source": [
    "T"
   ]
  },
  {
   "cell_type": "code",
   "execution_count": 54,
   "metadata": {
    "collapsed": true
   },
   "outputs": [],
   "source": [
    "# Build numpy array to hold info about rides\n",
    "\n",
    "def buildRides():\n",
    "    rides = []\n",
    "    \n",
    "    for i in range(1, N + 1):\n",
    "        single_ride = np.asarray(list(map(int, data_set[i].split(' '))))\n",
    "        route = abs(single_ride[0] - single_ride[2]) + abs(single_ride[1] - single_ride[3])\n",
    "        latest_start = single_ride[5] - route\n",
    "        erliest_finish = single_ride[4] + route\n",
    "        single_ride = np.append(single_ride, [route, erliest_finish, latest_start, i-1])\n",
    "        rides.append(single_ride)\n",
    "    rides = np.asarray(rides)\n",
    "    \n",
    "    return rides"
   ]
  },
  {
   "cell_type": "code",
   "execution_count": 55,
   "metadata": {
    "collapsed": true
   },
   "outputs": [],
   "source": [
    "# [a, b, x, y, s, f]\n",
    "\n",
    "# a  – the row of the start intersection\n",
    "# b  – the column of the start intersection \n",
    "# x  – the row of the finish intersection\n",
    "# y  – the column of the finish intersection\n",
    "# s  – the earliest start\n",
    "# f  – the latest finish\n",
    "\n",
    "# r  - route length\n",
    "# ef - the earliest finish\n",
    "# ls - the latest start\n",
    "# id - client id"
   ]
  },
  {
   "cell_type": "code",
   "execution_count": 56,
   "metadata": {
    "collapsed": true
   },
   "outputs": [],
   "source": [
    "# Client list for taxis\n",
    "def buildTaxis():\n",
    "    taxi = dict()\n",
    "    for i in range(F):\n",
    "        taxi[i] = list()\n",
    "    return taxi"
   ]
  },
  {
   "cell_type": "code",
   "execution_count": 57,
   "metadata": {
    "collapsed": true
   },
   "outputs": [],
   "source": [
    "# Taxi position\n",
    "def buildTaxiPosition():\n",
    "    taxi = dict()\n",
    "    for i in range(F):\n",
    "        taxi[i] = (0,0)\n",
    "    return taxi"
   ]
  },
  {
   "cell_type": "code",
   "execution_count": 58,
   "metadata": {
    "collapsed": true
   },
   "outputs": [],
   "source": [
    "# Current rides\n",
    "def buildCurrentRides():\n",
    "     return dict()"
   ]
  },
  {
   "cell_type": "code",
   "execution_count": 59,
   "metadata": {
    "collapsed": true
   },
   "outputs": [],
   "source": [
    "def routeToClient(r_taxi, c_taxi, r_client, c_client):\n",
    "    return abs(r_taxi - r_client) + abs(c_taxi - c_client)"
   ]
  },
  {
   "cell_type": "code",
   "execution_count": 60,
   "metadata": {
    "collapsed": true
   },
   "outputs": [],
   "source": [
    "def costFunction(nwcs, npcs, ts, dr, bonus):\n",
    "#     print(nwcs)\n",
    "#     print(npcs)\n",
    "#     print(ts)\n",
    "#     print(dr)\n",
    "#     print(bonus)\n",
    "    \n",
    "    \n",
    "    if(nwcs - ts >= dr):\n",
    "        return(nwcs -ts -bonus)\n",
    "    elif(npcs - ts >= dr):\n",
    "        return(dr)\n",
    "    else:\n",
    "        return(1000000)"
   ]
  },
  {
   "cell_type": "code",
   "execution_count": 61,
   "metadata": {
    "collapsed": true
   },
   "outputs": [],
   "source": [
    "def costFunctionForRow(single_row, r_taxi, c_taxi, ts, bonus):\n",
    "    r_client = single_row[0]\n",
    "    c_client = single_row[1]\n",
    "    dr = routeToClient(r_taxi, c_taxi, r_client, c_client)\n",
    "    return costFunction(single_row[4], single_row[8], ts, dr, bonus)"
   ]
  },
  {
   "cell_type": "code",
   "execution_count": 62,
   "metadata": {
    "collapsed": true
   },
   "outputs": [],
   "source": [
    "def simulation():\n",
    "    rides = buildRides()\n",
    "    taxi = buildTaxis()\n",
    "    taxi_position = buildTaxiPosition()\n",
    "    current_rides = buildCurrentRides()\n",
    "    \n",
    "    for t in range(T):\n",
    "        vehicle_to_remove = []\n",
    "        for vehicle in current_rides:\n",
    "            if(current_rides[vehicle][-1] == t):\n",
    "                taxi_position[vehicle] = (current_rides[vehicle][1], current_rides[vehicle][2])\n",
    "                taxi[vehicle].append(current_rides[vehicle][0])\n",
    "                vehicle_to_remove.append(vehicle)\n",
    "        \n",
    "        for vehicle in vehicle_to_remove:\n",
    "            del current_rides[vehicle]\n",
    "        \n",
    "        for vehicle in range(F):\n",
    "            if(vehicle not in current_rides.keys()):\n",
    "                if(rides.shape[0] != 0):\n",
    "#                     cost_values = np.array([])\n",
    "#                     for row in rides:\n",
    "#                         cost_values = np.append(cost_values, costFunctionForRow(row, taxi_position[vehicle][0], taxi_position[vehicle][1], t, B))\n",
    "                    cost_values = np.apply_along_axis(costFunctionForRow, 1, rides, taxi_position[vehicle][0], taxi_position[vehicle][1], t, B)\n",
    "                    tmp_index = np.argmin(cost_values)\n",
    "                    client = rides[tmp_index]\n",
    "                    client_id = client[-1]\n",
    "                    client_row_finish = client[2]\n",
    "                    client_column_finish = client[3]\n",
    "                    time_finish = client[6] + t\n",
    "\n",
    "                    current_rides[vehicle] = (client_id, client_row_finish, client_column_finish, time_finish)\n",
    "                    rides = np.delete(rides, tmp_index, 0)\n",
    "    return taxi "
   ]
  },
  {
   "cell_type": "code",
   "execution_count": 63,
   "metadata": {
    "collapsed": true
   },
   "outputs": [],
   "source": [
    "sim_output = simulation()"
   ]
  },
  {
   "cell_type": "code",
   "execution_count": 64,
   "metadata": {},
   "outputs": [
    {
     "name": "stdout",
     "output_type": "stream",
     "text": [
      "{0: [0], 1: [2, 1]}\n"
     ]
    }
   ],
   "source": [
    "print(sim_output)"
   ]
  },
  {
   "cell_type": "code",
   "execution_count": 65,
   "metadata": {},
   "outputs": [
    {
     "name": "stdout",
     "output_type": "stream",
     "text": [
      "1 0\n",
      "2 2 1\n"
     ]
    }
   ],
   "source": [
    "output = \"\"\n",
    "for line in sim_output:\n",
    "    single = str(len(sim_output[line]))\n",
    "    for val in sim_output[line]:\n",
    "        single += \" \"\n",
    "        single += str(val)\n",
    "    single += '\\n'\n",
    "    output += single\n",
    "output = output[:-1]\n",
    "print(output)"
   ]
  },
  {
   "cell_type": "code",
   "execution_count": 66,
   "metadata": {
    "collapsed": true
   },
   "outputs": [],
   "source": [
    "text_file = open(\"OutputData/a_example.out\", \"w+\")\n",
    "\n",
    "text_file.write(output)\n",
    "\n",
    "text_file.close()"
   ]
  }
 ],
 "metadata": {
  "kernelspec": {
   "display_name": "Python 3",
   "language": "python",
   "name": "python3"
  },
  "language_info": {
   "codemirror_mode": {
    "name": "ipython",
    "version": 3
   },
   "file_extension": ".py",
   "mimetype": "text/x-python",
   "name": "python",
   "nbconvert_exporter": "python",
   "pygments_lexer": "ipython3",
   "version": "3.6.3"
  }
 },
 "nbformat": 4,
 "nbformat_minor": 2
}
